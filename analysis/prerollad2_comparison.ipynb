{
 "cells": [
  {
   "cell_type": "code",
   "execution_count": 1,
   "id": "664c92b2",
   "metadata": {},
   "outputs": [
    {
     "name": "stdout",
     "output_type": "stream",
     "text": [
      "1,39\n"
     ]
    },
    {
     "data": {
      "text/html": [
       "<div>\n",
       "<style scoped>\n",
       "    .dataframe tbody tr th:only-of-type {\n",
       "        vertical-align: middle;\n",
       "    }\n",
       "\n",
       "    .dataframe tbody tr th {\n",
       "        vertical-align: top;\n",
       "    }\n",
       "\n",
       "    .dataframe thead th {\n",
       "        text-align: right;\n",
       "    }\n",
       "</style>\n",
       "<table border=\"1\" class=\"dataframe\">\n",
       "  <thead>\n",
       "    <tr style=\"text-align: right;\">\n",
       "      <th></th>\n",
       "      <th>video_url</th>\n",
       "      <th>preroll_ad_video_url</th>\n",
       "      <th>preroll_ad_site</th>\n",
       "      <th>preroll_ad_info</th>\n",
       "      <th>preroll_ad2_video_url</th>\n",
       "      <th>preroll_ad2_site</th>\n",
       "      <th>preroll_ad2_info</th>\n",
       "    </tr>\n",
       "  </thead>\n",
       "  <tbody>\n",
       "    <tr>\n",
       "      <th>0</th>\n",
       "      <td>https://www.youtube.com/watch?v=tls4YwtdsgM</td>\n",
       "      <td>https://www.youtube.com/watch?v=qYk1tqp1dQo</td>\n",
       "      <td>kbb.com</td>\n",
       "      <td>[None, None]</td>\n",
       "      <td>https://www.youtube.com/watch?v=4WiCLfZ9gz0</td>\n",
       "      <td>nasonexallergy.com</td>\n",
       "      <td>[None, None]</td>\n",
       "    </tr>\n",
       "  </tbody>\n",
       "</table>\n",
       "</div>"
      ],
      "text/plain": [
       "                                     video_url   \n",
       "0  https://www.youtube.com/watch?v=tls4YwtdsgM  \\\n",
       "\n",
       "                          preroll_ad_video_url preroll_ad_site   \n",
       "0  https://www.youtube.com/watch?v=qYk1tqp1dQo        kbb.com   \\\n",
       "\n",
       "  preroll_ad_info                        preroll_ad2_video_url   \n",
       "0    [None, None]  https://www.youtube.com/watch?v=4WiCLfZ9gz0  \\\n",
       "\n",
       "      preroll_ad2_site preroll_ad2_info  \n",
       "0  nasonexallergy.com      [None, None]  "
      ]
     },
     "execution_count": 1,
     "metadata": {},
     "output_type": "execute_result"
    }
   ],
   "source": [
    "import json \n",
    "import csv\n",
    "import pandas as pd\n",
    "import os\n",
    "\n",
    "# Go up one dir\n",
    "os.chdir(\"..\")\n",
    "\n",
    "header = [\"video_url\",\n",
    "          \"preroll_ad_video_url\", \"preroll_ad_site\",\"preroll_ad_info\",\n",
    "          \"preroll_ad2_video_url\", \"preroll_ad2_site\",\"preroll_ad2_info\",]\n",
    "id = \"20230530_1949\"\n",
    "ad_json_file = open(f\"ads/ads_{id}.json\", \"r\", encoding=\"utf-8\")\n",
    "df_data = []\n",
    "ad_count = 0\n",
    "\n",
    "for line in ad_json_file:\n",
    "    json_data = json.loads(line)\n",
    "    if json_data['preroll_ad_video_url'] or json_data['preroll_ad2_video_url']:\n",
    "        ad_count += 1\n",
    "    if json_data['preroll_ad_video_url'] and json_data['preroll_ad2_video_url']:\n",
    "        if json_data['preroll_ad_video_url'] != json_data['video_url'] and json_data['preroll_ad2_video_url'] != json_data['video_url']:\n",
    "            df_data.append([json_data[cate] for cate in header])\n",
    "    \n",
    "df = pd.DataFrame(df_data, columns=header)\n",
    "print(f\"{len(df)},{ad_count}\")\n",
    "df\n",
    "    "
   ]
  }
 ],
 "metadata": {
  "kernelspec": {
   "display_name": "Python 3 (ipykernel)",
   "language": "python",
   "name": "python3"
  },
  "language_info": {
   "codemirror_mode": {
    "name": "ipython",
    "version": 3
   },
   "file_extension": ".py",
   "mimetype": "text/x-python",
   "name": "python",
   "nbconvert_exporter": "python",
   "pygments_lexer": "ipython3",
   "version": "3.11.3"
  }
 },
 "nbformat": 4,
 "nbformat_minor": 5
}
